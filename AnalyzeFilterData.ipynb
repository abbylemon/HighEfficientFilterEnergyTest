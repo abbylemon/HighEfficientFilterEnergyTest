{
 "cells": [
  {
   "cell_type": "code",
   "execution_count": null,
   "metadata": {},
   "outputs": [],
   "source": [
    "import pandas as pd\n",
    "import matplotlib.pyplot as plt\n",
    "from datetime import *\n",
    "import numpy as np\n",
    "#import peakutils"
   ]
  },
  {
   "cell_type": "markdown",
   "metadata": {},
   "source": [
    "# Data Munging"
   ]
  },
  {
   "cell_type": "code",
   "execution_count": null,
   "metadata": {
    "scrolled": true
   },
   "outputs": [],
   "source": [
    "#bring in the summary table \n",
    "#format the date time inorder to merge with data files\n",
    "summary_df = pd.read_csv(\"Data/3MTestingLog.csv\")\n",
    "summary_df = summary_df.drop(['Table Name'], axis=1)\n",
    "summary_df[\"Install Date Time\"] = pd.to_datetime(summary_df['Date'] + ' ' + summary_df['Install Time'], format=\"%m/%d/%y %H:%M\")\n",
    "summary_df[\"Removal Date Time\"] = pd.to_datetime(summary_df['Date'] + ' ' + summary_df['Removal Time'], format=\"%m/%d/%y %H:%M\")\n",
    "\n",
    "#fix the dates for when the sample was removed the following day after installation.\n",
    "for i in range(len(summary_df['Date'])):\n",
    "    if summary_df['Removal Date Time'][i] < summary_df['Install Date Time'][i]:\n",
    "        summary_df['Removal Date Time'][i] = summary_df['Removal Date Time'][i] + timedelta(days=1)\n",
    "\n",
    "summary_df"
   ]
  },
  {
   "cell_type": "code",
   "execution_count": null,
   "metadata": {},
   "outputs": [],
   "source": [
    "summary_df.dtypes"
   ]
  },
  {
   "cell_type": "code",
   "execution_count": null,
   "metadata": {},
   "outputs": [],
   "source": [
    "#Bring in the testing data \n",
    "#Had to seperate the files because some of them had different headers for the filter pressure drop\n",
    "datafiles1 = [\"Data/Data-20191120134426.csv\", \"Data/Data-20191121080221_0.csv\", \"Data/Data-20191121080221_1.csv\"]\n",
    "\n",
    "datafiles2 = [\"Data/Data-20191122074415.csv\", \"Data/Data-20191125071926_0.csv\", \"Data/Data-20191125071926_1.csv\", \n",
    "             \"Data/Data-20191126061705_0.csv\", \"Data/Data-20191126061705_1.csv\", \"Data/Data-20191127053638.csv\"]\n",
    "\n",
    "usecols1 = ['Date', 'Time', \"Volts\", 'Volts.1', 'Amps', 'Amps.1', 'Volts.2', 'Volts.3', 'Amps.2', 'Amps.3', '0']\n",
    "\n",
    "usecols2 = ['Date', 'Time', \"Volts\", 'Volts.1', 'Amps', 'Amps.1', 'Volts.2', 'Volts.3', 'Amps.2', 'Amps.3', 'In. H2']"
   ]
  },
  {
   "cell_type": "code",
   "execution_count": null,
   "metadata": {
    "scrolled": true
   },
   "outputs": [],
   "source": [
    "#pullin the first file as a dataframe, pull the desired columns and drop the first row since there are two header rows\n",
    "AllData_df = pd.DataFrame()\n",
    "\n",
    "for file1 in datafiles1: \n",
    "    Data1_df = pd.read_csv(file1, skiprows=1, usecols=usecols1) \n",
    "    \n",
    "    NonZeroData1_df = Data1_df.loc[(Data1_df['Volts']!=0)]\n",
    "\n",
    "    AllData_df = AllData_df.append(NonZeroData1_df, ignore_index=True)\n",
    "    \n",
    "#remove all of the rows with zeros\n",
    "#AllData_df = Data1_df.loc[(Data1_df['Volts']!=0)]\n",
    "\n",
    "#rename the filter pressure drop column to match the rest of the files\n",
    "AllData_df = AllData_df.rename(columns={'0': 'In. H2'})\n",
    "\n",
    "AllData_df"
   ]
  },
  {
   "cell_type": "code",
   "execution_count": null,
   "metadata": {},
   "outputs": [],
   "source": [
    "AllData_df.dtypes"
   ]
  },
  {
   "cell_type": "code",
   "execution_count": null,
   "metadata": {},
   "outputs": [],
   "source": [
    "#pull in all of the other data files and create one large file while removing all zero values\n",
    "for file in datafiles2:\n",
    "    Data2_df = pd.read_csv(file, skiprows=1, usecols=usecols2)\n",
    "\n",
    "    NonZeroData2_df = Data2_df.loc[(Data2_df['Volts']!=0)]\n",
    "        \n",
    "    AllData_df = AllData_df.append(NonZeroData2_df, ignore_index=True)\n",
    "    \n",
    "\n",
    "AllData_df = AllData_df.rename(columns={'In. H2': 'Filter Pressure Drop (in/H2O)'})\n",
    "    \n",
    "AllData_df['Date and Time'] = pd.to_datetime(AllData_df['Date'] + ' ' + AllData_df['Time'], format=\"%Y/%m/%d %H:%M:%S\")\n",
    "\n",
    "AllData_df.shape"
   ]
  },
  {
   "cell_type": "code",
   "execution_count": null,
   "metadata": {},
   "outputs": [],
   "source": [
    "#AllData_df['Date and Time'] = pd.to_datetime(AllData_df['Date'] + ' ' + AllData_df['Time'], format=\"%Y/%m/%d %H:%M:%S\")\n",
    "#AllData_df['Date and Time'] = pd.to_datetime(AllData_df['Date'] + ' ' + AllData_df['Time'])\n",
    "\n",
    "ZeroData_df = AllData_df.loc[AllData_df['Volts'] == 0]\n",
    "\n",
    "ZeroData_df.shape"
   ]
  },
  {
   "cell_type": "code",
   "execution_count": null,
   "metadata": {},
   "outputs": [],
   "source": [
    "#calculating Watts column as Volts+Volts.1 * Amps+Amps.1\n",
    "\n",
    "CalculatedColumns_df = AllData_df.copy()\n",
    "CalculatedColumns_df['Whole Home Power (kW)'] = ((CalculatedColumns_df['Volts']+CalculatedColumns_df['Volts.1']) * (CalculatedColumns_df['Amps']+CalculatedColumns_df['Amps.1']))/1000\n",
    "CalculatedColumns_df['Compressor Power (kW)'] = ((CalculatedColumns_df['Volts.2']+CalculatedColumns_df['Volts.3']) * CalculatedColumns_df['Amps.2'])/1000\n",
    "CalculatedColumns_df['Blower Fan Power (kW)'] = (CalculatedColumns_df['Amps.3'])*120/1000\n",
    "CalculatedColumns_df['Compressor and Fan Power (kW)'] = CalculatedColumns_df['Compressor Power (kW)'] + CalculatedColumns_df['Blower Fan Power (kW)']\n",
    "CalculatedColumns_df"
   ]
  },
  {
   "cell_type": "code",
   "execution_count": null,
   "metadata": {},
   "outputs": [],
   "source": [
    "#create new columns in AllData_df by using conditional (mask) and data from summary_df\n",
    "#with using the combined column date and time\n",
    "\n",
    "for i in range(len(summary_df['Filter ID'])):\n",
    "    mask = (CalculatedColumns_df['Date and Time'] >= summary_df['Install Date Time'][i]) & (CalculatedColumns_df['Date and Time'] <= summary_df['Removal Date Time'][i])\n",
    "\n",
    "    #based on the summary table, what was the filter ID during this time fame\n",
    "    CalculatedColumns_df.loc[mask, 'Filter ID'] = summary_df['Filter ID'][i]\n",
    "    \n",
    "    #based on the summary table was the outside of the home during heating or cooling season during this time fame\n",
    "    CalculatedColumns_df.loc[mask, 'Outdoor Temp'] = summary_df['Outdoor Temp'][i]\n",
    "    \n",
    "    #based on the summary table is the filter dirty or clean during this time fame\n",
    "    if (summary_df['Filter ID'][i]=='MERV 8-4') | (summary_df['Filter ID'][i]=='MERV 8-5') | (summary_df['Filter ID'][i]=='MERV 13-4') | (summary_df['Filter ID'][i]=='MERV 13-5'):\n",
    "        CalculatedColumns_df.loc[mask, 'Clean/Dirty'] = 'Dirty'\n",
    "    else:\n",
    "        CalculatedColumns_df.loc[mask, 'Clean/Dirty'] = 'Clean'\n",
    "        \n",
    "    #added a rolling count of seconds the filter was tested for during this time fame\n",
    "    CalculatedColumns_df.loc[mask, 'Cumulative Time in Test (sec)'] = CalculatedColumns_df.loc[mask, 'Filter ID'].rolling(len(CalculatedColumns_df.loc[mask, 'Filter ID'])).count()\n",
    "\n",
    "#remove the na's. This will be the time between the tests\n",
    "FilteredData_df = CalculatedColumns_df.dropna()\n",
    "FilteredData_df"
   ]
  },
  {
   "cell_type": "code",
   "execution_count": null,
   "metadata": {},
   "outputs": [],
   "source": [
    "second_cut_off = 7200\n",
    "\n",
    "FilterID_CleanDirty_Combined_df = FilteredData_df.copy()\n",
    "FilterID_CleanDirty_Combined_df['Filter ID'] = FilterID_CleanDirty_Combined_df['Filter ID'] + str(' ') + FilterID_CleanDirty_Combined_df['Clean/Dirty']\n",
    "FilterID_CleanDirty_Combined_df = FilterID_CleanDirty_Combined_df.drop(columns=['Clean/Dirty', 'Volts', 'Volts.1', 'Volts.2', 'Volts.3', 'Amps', 'Amps.1', 'Amps.2', 'Amps.3'])\n",
    "FilterID_CleanDirty_Combined_df\n",
    "Grouped_FilterID_CleanDirty = FilterID_CleanDirty_Combined_df[FilterID_CleanDirty_Combined_df['Cumulative Time in Test (sec)'] <= second_cut_off].groupby(['Date and Time', 'Filter ID'])\n",
    "\n",
    "Grouped_FilterID_CleanDirty.sum()\n",
    "\n",
    "FilterID_CleanDirty_df = pd.DataFrame(Grouped_FilterID_CleanDirty.sum())\n",
    "\n",
    "FilterID_CleanDirty_df.to_excel(\"Data/Power and PD over Time.xlsx\", index=True, header=True)\n",
    "\n",
    "FilterID_CleanDirty_df"
   ]
  },
  {
   "cell_type": "markdown",
   "metadata": {},
   "source": [
    "# Ploting Time Series Data"
   ]
  },
  {
   "cell_type": "code",
   "execution_count": null,
   "metadata": {},
   "outputs": [],
   "source": [
    "# HVAC Energy vs Time\n",
    "\n",
    "FilteredData_df['Clean/Dirty Filter ID'] = FilteredData_df['Clean/Dirty'] + str(' ') + FilteredData_df['Filter ID']\n",
    "\n",
    "Grouped1 = FilteredData_df[FilteredData_df['Cumulative Time in Test (sec)']<=second_cut_off].groupby(['Outdoor Temp', 'Clean/Dirty Filter ID'])\n",
    "\n",
    "samplelist = list(set(FilteredData_df['Clean/Dirty Filter ID']))\n",
    "\n",
    "seasons = list(set(FilteredData_df['Outdoor Temp']))\n",
    "\n",
    "for season in seasons:\n",
    "    for sample in samplelist:\n",
    "\n",
    "        # for every season and sample, plot the power over time\n",
    "        power_plot = Grouped1.get_group((season, sample)).plot(kind='line', \n",
    "                                                  x='Cumulative Time in Test (sec)', \n",
    "                                                  y='Compressor and Fan Power (kW)',\n",
    "                                                  ylim=(0,6.1), legend=False, \n",
    "                                                  title='Outdoor Temp of ' + str(season) + ' with a ' + sample\n",
    "                                                 )\n",
    "        power_plot.set_ylabel('Compressor and Fan Power (kW)')\n",
    "        plt.tight_layout()\n",
    "        plt.savefig(\"Images/Energy Plots/\" + str(season) + \" \" + str(sample) + \" Power Cycling over Time.png\")\n",
    "        \n",
    "        # for every season and sample, plot the pressure drop over time\n",
    "        PD_plot = Grouped1.get_group((season, sample)).plot(kind='line', \n",
    "                                                  x='Cumulative Time in Test (sec)', \n",
    "                                                  y='Filter Pressure Drop (in/H2O)',\n",
    "                                                  ylim=(0,0.30), legend=False, \n",
    "                                                  title='Outdoor Temp of ' + str(season) + ' with a ' + sample\n",
    "                                                 )\n",
    "        PD_plot.set_ylabel('Filter Pressure Drop (in/H2O)')\n",
    "        \n",
    "        # add SI units to the secondary axis\n",
    "        def toSI(x):\n",
    "            return x * 249\n",
    "        \n",
    "        def toNonSI(x):\n",
    "            return x / 249\n",
    "        \n",
    "        secaxy = PD_plot.secondary_yaxis('right', functions=(toSI, toNonSI))\n",
    "        secaxy.set_ylabel('Filter Pressure Drop (Pascal)')\n",
    "        \n",
    "        plt.tight_layout()\n",
    "        plt.savefig(\"Images/Pressure Drop Plots/\" + str(season) + \" \" + str(sample) + \" Pressure Drops over Time.png\")\n",
    "        "
   ]
  },
  {
   "cell_type": "markdown",
   "metadata": {},
   "source": [
    "# More Data Munging"
   ]
  },
  {
   "cell_type": "code",
   "execution_count": null,
   "metadata": {},
   "outputs": [],
   "source": [
    "# gather all non zero pressure drop values\n",
    "\n",
    "pressuredrop_df = FilteredData_df[FilteredData_df['Cumulative Time in Test (sec)']<=second_cut_off]\n",
    "\n",
    "pressuredrop_df = pressuredrop_df[pressuredrop_df['Filter Pressure Drop (in/H2O)']!=0.0]\n",
    "\n",
    "pressuredrop_df = pressuredrop_df.drop(columns=['Volts', 'Volts.1', 'Amps', 'Amps.1', 'Volts.2', 'Volts.3', 'Amps.2', 'Amps.3'])\n",
    "  \n",
    "pressuredrop_df['Clean/Dirty Filter ID'] = pressuredrop_df['Clean/Dirty'] + str(' ') + pressuredrop_df['Filter ID']\n",
    "    \n",
    "pressuredrop_cooling_df = pressuredrop_df[pressuredrop_df['Outdoor Temp']==95.0]\n",
    "\n",
    "pressuredrop_heating_df = pressuredrop_df[pressuredrop_df['Outdoor Temp']==40.0]\n",
    "\n",
    "pressuredrop_heating_df\n",
    "    "
   ]
  },
  {
   "cell_type": "code",
   "execution_count": null,
   "metadata": {},
   "outputs": [],
   "source": [
    "#Gathering Energy consumed by using groupby()\n",
    "#Group the data for only the first 2 hours the filter was tested\n",
    "second_cut_off = 7200\n",
    "Grouped_df = FilteredData_df[FilteredData_df['Cumulative Time in Test (sec)'] <= second_cut_off].groupby(['Outdoor Temp','Clean/Dirty','Filter ID'])\n",
    "\n",
    "#Calculate the Energy and convert from seconds to hours  \n",
    "Energy_Consumped_df = pd.DataFrame((Grouped_df['Whole Home Power (kW)'].sum())/(3600))\n",
    "Energy_Consumped_df = Energy_Consumped_df.rename(columns={'Whole Home Power (kW)': 'Whole Home Energy (kWh)'})\n",
    "\n",
    "Energy_Consumped_df['Compressor Energy (kWh)'] = (Grouped_df['Compressor Power (kW)'].sum())/(3600)\n",
    "\n",
    "Energy_Consumped_df['Blower Fan Energy (kWh)'] = (Grouped_df['Blower Fan Power (kW)'].sum())/(3600)\n",
    "\n",
    "Energy_Consumped_df['Compressor and Fan Energy (kWh)'] = (Grouped_df['Compressor and Fan Power (kW)'].sum())/(3600)\n",
    "\n",
    "Energy_Consumped_df.to_excel('Data/Energy Consumption per Filter.xlsx')\n",
    "\n",
    "Energy_Consumped_df"
   ]
  },
  {
   "cell_type": "code",
   "execution_count": null,
   "metadata": {},
   "outputs": [],
   "source": [
    "#create a new group with just values during the heating season\n",
    "#Gathering Energy consumed by using groupby()\n",
    "#Group the data for only the first 2 hours the filter was tested\n",
    "second_cut_off = 7200\n",
    "Heating_df = FilteredData_df[FilteredData_df['Outdoor Temp'] == 40.0]\n",
    "GroupedHeating_df = Heating_df[Heating_df['Cumulative Time in Test (sec)'] <= second_cut_off].groupby(['Clean/Dirty','Filter ID'])\n",
    "\n",
    "#Calculate the Energy and convert from seconds to hours  \n",
    "Energy_Consumped_Heating_df = pd.DataFrame((GroupedHeating_df['Whole Home Power (kW)'].sum())/(3600))\n",
    "Energy_Consumped_Heating_df = Energy_Consumped_Heating_df.rename(columns={'Whole Home Power (kW)': 'Whole Home Energy (kWh)'})\n",
    "\n",
    "Energy_Consumped_Heating_df['Compressor Energy (kWh)'] = (GroupedHeating_df['Compressor Power (kW)'].sum())/(3600)\n",
    "\n",
    "Energy_Consumped_Heating_df['Blower Fan Energy (kWh)'] = (GroupedHeating_df['Blower Fan Power (kW)'].sum())/(3600)\n",
    "\n",
    "Energy_Consumped_Heating_df['Compressor and Fan Energy (kWh)'] = (GroupedHeating_df['Compressor and Fan Power (kW)'].sum())/(3600)\n",
    "\n",
    "# Try this instead of creating a new column and doing .sort_values()\n",
    "# df.reindex(['Mon', 'Wed', 'Thu', 'Fri'], level='day')\n",
    "Energy_Consumped_Heating_df = Energy_Consumped_Heating_df.reindex(['FG-1', 'FG-2', 'MERV 8-1', 'MERV 8-2', 'MERV 13-1', 'MERV 13-2',\n",
    "                                    'MERV 8-4', 'MERV 8-5', 'MERV 13-4', 'MERV 13-5'], level='Filter ID')\n",
    "\n",
    "# Energy_Consumped_Heating_df['Sort Column'] = [4, 5, 0, 1, 2, 3, 8, 9, 6, 7]\n",
    "\n",
    "# Energy_Consumped_Heating_df = Energy_Consumped_Heating_df.sort_values('Sort Column')\n",
    "\n",
    "Energy_Consumped_Heating_df"
   ]
  },
  {
   "cell_type": "code",
   "execution_count": null,
   "metadata": {},
   "outputs": [],
   "source": [
    "#create a new group with just values during the cooling season\n",
    "#Gathering Energy consumed by using groupby()\n",
    "#Group the data for only the first 2 hours the filter was tested\n",
    "second_cut_off = 7200\n",
    "Cooling_df = FilteredData_df[FilteredData_df['Outdoor Temp'] == 95.0]\n",
    "time_cut_off_Cooling_df = Cooling_df[Cooling_df['Cumulative Time in Test (sec)'] <= second_cut_off]\n",
    "GroupedCooling_df = Cooling_df[Cooling_df['Cumulative Time in Test (sec)'] <= second_cut_off].groupby(['Clean/Dirty','Filter ID'])\n",
    "\n",
    "#Calculate the Energy and convert from seconds to hours  \n",
    "Energy_Consumped_Cooling_df = pd.DataFrame((GroupedCooling_df['Whole Home Power (kW)'].sum())/(3600))\n",
    "Energy_Consumped_Cooling_df = Energy_Consumped_Cooling_df.rename(columns={'Whole Home Power (kW)': 'Whole Home Energy (kWh)'})\n",
    "\n",
    "Energy_Consumped_Cooling_df['Compressor Energy (kWh)'] = (GroupedCooling_df['Compressor Power (kW)'].sum())/(3600)\n",
    "\n",
    "Energy_Consumped_Cooling_df['Blower Fan Energy (kWh)'] = (GroupedCooling_df['Blower Fan Power (kW)'].sum())/(3600)\n",
    "\n",
    "Energy_Consumped_Cooling_df['Compressor and Fan Energy (kWh)'] = (GroupedCooling_df['Compressor and Fan Power (kW)'].sum())/(3600)\n",
    "\n",
    "Energy_Consumped_Cooling_df = Energy_Consumped_Cooling_df.reindex(['FG-1', 'FG-2', 'MERV 8-1', 'MERV 8-2', 'MERV 13-1', 'MERV 13-2',\n",
    "                                    'MERV 8-4', 'MERV 8-5', 'MERV 13-4', 'MERV 13-5'], level='Filter ID')\n",
    "\n",
    "# Energy_Consumped_Cooling_df['Sort Column'] = [4, 5, 0, 1, 2, 3, 8, 9, 6, 7]\n",
    "\n",
    "# Energy_Consumped_Cooling_df = Energy_Consumped_Cooling_df.sort_values('Sort Column')\n",
    "\n",
    "Energy_Consumped_Cooling_df"
   ]
  },
  {
   "cell_type": "markdown",
   "metadata": {},
   "source": [
    "# Ploting Grouped Results"
   ]
  },
  {
   "cell_type": "code",
   "execution_count": null,
   "metadata": {},
   "outputs": [],
   "source": [
    "#graph pressure drop across filter results from the heating season\n",
    "pressuredrop_heating_df\n",
    "\n",
    "order = ['Clean FG-1', 'Clean FG-2', 'Clean MERV 8-1', 'Clean MERV 8-2', 'Clean MERV 13-1', 'Clean MERV 13-2', \n",
    "         'Dirty MERV 8-4', 'Dirty MERV 8-5', 'Dirty MERV 13-4', 'Dirty MERV 13-5']\n",
    "\n",
    "pressuredrop_heating_group = pressuredrop_heating_df.groupby(['Clean/Dirty Filter ID'])\n",
    "\n",
    "pressuredrop_heating_group_df = pressuredrop_heating_group.mean()\n",
    "pressuredrop_heating_group_df = pressuredrop_heating_group_df.reindex(order)\n",
    "\n",
    "pd_heating_group_err_df = pressuredrop_heating_group['Filter Pressure Drop (in/H2O)'].std()\n",
    "pd_heating_group_err_df = pd_heating_group_err_df.reindex(order)\n",
    "\n",
    "error = list(pd_heating_group_err_df)\n",
    "\n",
    "heat_PD_plot = pressuredrop_heating_group_df['Filter Pressure Drop (in/H2O)'].plot(kind='bar',\n",
    "                                                                    color=['grey', 'grey', 'r', 'r', 'b', 'b', 'lightcoral', 'lightcoral', 'cornflowerblue', 'cornflowerblue'],\n",
    "                                                                    figsize = (14,7),\n",
    "                                                                    yerr=error\n",
    "                                                                   )\n",
    "plt.xticks(rotation=45)\n",
    "plt.ylabel('Filter Pressure Drop (in/H2O)',fontsize=15)\n",
    "plt.xlabel('Filters Tested', fontsize=15)\n",
    "plt.title('Heating Season: Pressure Drop Averages', fontsize=20)\n",
    "\n",
    "# add SI units to the secondary axis\n",
    "def toSI(x):\n",
    "    return x * 249\n",
    "\n",
    "def toNonSI(x):\n",
    "    return x / 249\n",
    "\n",
    "secaxy = heat_PD_plot.secondary_yaxis('right', functions=(toSI, toNonSI))\n",
    "secaxy.set_ylabel('Filter Pressure Drop (Pascal)', fontsize=15)\n",
    "heat_PD_plot.tick_params(labelsize=12)\n",
    "\n",
    "plt.grid(True)\n",
    "plt.tight_layout()\n",
    "plt.savefig('Images/Pressure Drop Plots/HeatingSeason_Pressure_Drop.png')"
   ]
  },
  {
   "cell_type": "code",
   "execution_count": null,
   "metadata": {},
   "outputs": [],
   "source": [
    "#graph pressure drop across filter results from the cooling season\n",
    "pressuredrop_cooling_df\n",
    "\n",
    "pressuredrop_cooling_group = pressuredrop_cooling_df.groupby(['Clean/Dirty Filter ID'])\n",
    "\n",
    "pressuredrop_cooling_group_df = pressuredrop_cooling_group.mean()\n",
    "pressuredrop_cooling_group_df = pressuredrop_cooling_group_df.reindex(order)\n",
    "\n",
    "pd_cooling_group_err_df = pressuredrop_cooling_group['Filter Pressure Drop (in/H2O)'].std()\n",
    "pd_cooling_group_err_df = pd_cooling_group_err_df.reindex(order)\n",
    "\n",
    "error = list(pd_cooling_group_err_df)\n",
    "\n",
    "pressuredrop_cooling_group_df\n",
    "\n",
    "cool_PD_plot = pressuredrop_cooling_group_df['Filter Pressure Drop (in/H2O)'].plot(kind='bar',\n",
    "                                                                    color=['grey', 'grey', 'r', 'r', 'b', 'b', 'lightcoral', 'lightcoral', 'cornflowerblue', 'cornflowerblue'],\n",
    "                                                                    yerr=error,\n",
    "                                                                    figsize = (14,7)\n",
    "                                                                   )\n",
    "\n",
    "plt.xticks(rotation=45)\n",
    "plt.xlabel('Filters Tested', fontsize=15)\n",
    "plt.title('Cooling Season: Pressure Drop Averages', fontsize=20)\n",
    "plt.ylabel('Pressure Drop of Filter (in/H2O)', fontsize=15)\n",
    "\n",
    "# add SI units to the secondary axis\n",
    "def toSI(x):\n",
    "    return x * 249\n",
    "\n",
    "def toNonSI(x):\n",
    "    return x / 249\n",
    "\n",
    "secaxy = cool_PD_plot.secondary_yaxis('right', functions=(toSI, toNonSI))\n",
    "secaxy.set_ylabel('Filter Pressure Drop (Pascal)', fontsize=15)\n",
    "heat_PD_plot.tick_params(labelsize=12)\n",
    "\n",
    "plt.grid(True)\n",
    "plt.tight_layout()\n",
    "plt.savefig('Images/Pressure Drop Plots/CoolingSeason_Pressure_Drop.png')"
   ]
  },
  {
   "cell_type": "code",
   "execution_count": null,
   "metadata": {},
   "outputs": [],
   "source": [
    "#graph Energy_Consumped_Heating_df results\n",
    "\n",
    "heat_HVACenergy_plot = Energy_Consumped_Heating_df['Compressor and Fan Energy (kWh)'].plot(kind='bar', \n",
    "                                                                    color=['grey', 'grey', 'r', 'r', 'b', 'b', 'lightcoral', 'lightcoral', 'cornflowerblue', 'cornflowerblue'],\n",
    "                                                                    figsize = (14,7),\n",
    "                                                                    fontsize=12\n",
    "                                                                   )\n",
    "plt.xlabel('Filters Tested', fontsize=15)\n",
    "plt.xticks(range(len(order)), order, rotation=45)\n",
    "plt.title('Heating Season: HVAC Energy Consumed', fontsize=20)\n",
    "plt.ylabel('Compressor and Fan Energy (kWh)', fontsize=15)\n",
    "plt.grid(True)\n",
    "plt.tight_layout()\n",
    "plt.savefig('Images/Energy Plots/Heating_Season_HVAC_Energy')"
   ]
  },
  {
   "cell_type": "code",
   "execution_count": null,
   "metadata": {},
   "outputs": [],
   "source": [
    "#graph Energy_Consumped_Cooling_df results for HVAC unit\n",
    "\n",
    "cool_HVACenergy_plot = Energy_Consumped_Cooling_df['Compressor and Fan Energy (kWh)'].plot(kind='bar', \n",
    "                                                                    color=['grey', 'grey', 'r', 'r', 'b', 'b', 'lightcoral', 'lightcoral', 'cornflowerblue', 'cornflowerblue'],\n",
    "                                                                    figsize=(14,7),\n",
    "                                                                    fontsize=12\n",
    "                                                                   )\n",
    "plt.xlabel('Filters Tested', fontsize=15)\n",
    "plt.xticks(range(len(order)), order, rotation=45)\n",
    "plt.ylabel('Compressor and Fan Energy (kWh)', fontsize=15)\n",
    "plt.title('Cooling Season: HVAC Energy Consumed', fontsize=20)\n",
    "plt.grid(True)\n",
    "plt.tight_layout()\n",
    "plt.savefig('Images/Energy Plots/Cooling_Season_HVAC_Energy.png')"
   ]
  },
  {
   "cell_type": "code",
   "execution_count": null,
   "metadata": {},
   "outputs": [],
   "source": [
    "#graph Energy_Consumped_Heating_df results for Whole Home\n",
    "\n",
    "heat_HomeEnergy_plot = Energy_Consumped_Heating_df['Whole Home Energy (kWh)'].plot(kind='bar', \n",
    "                                                            color=['grey', 'grey', 'r', 'r', 'b', 'b', 'lightcoral', 'lightcoral', 'cornflowerblue', 'cornflowerblue'],\n",
    "                                                                    figsize=(14,7),\n",
    "                                                                    fontsize=12\n",
    "                                                                   )\n",
    "plt.xlabel('Filters Tested', fontsize=15)\n",
    "plt.xticks(range(len(order)), order, rotation=45)\n",
    "plt.title('Heating Season: Whole Home Energy Consumed', fontsize=20)\n",
    "plt.ylabel('Whole Home Energy(kWh)', fontsize=15)\n",
    "plt.grid(True)\n",
    "plt.tight_layout()\n",
    "plt.savefig('Images/Energy Plots/Heating_Season_WholeHome_Energy')"
   ]
  },
  {
   "cell_type": "code",
   "execution_count": null,
   "metadata": {},
   "outputs": [],
   "source": [
    "#graph Energy_Consumped_Cooling_df results for Whole Home\n",
    "\n",
    "cool_HomeEnergy_plot = Energy_Consumped_Cooling_df['Whole Home Energy (kWh)'].plot(kind='bar',\n",
    "                                                            y='Whole Home Energy (kWh)',\n",
    "                                                            color=['grey', 'grey', 'r', 'r', 'b', 'b', 'lightcoral', 'lightcoral', 'cornflowerblue', 'cornflowerblue'], \n",
    "                                                                    figsize=(14,7),\n",
    "                                                                    fontsize=12\n",
    "                                                                   )\n",
    "plt.xlabel('Filters Tested', fontsize=15)\n",
    "plt.xticks(range(len(order)), order, rotation=45)\n",
    "plt.title('Cooling Season: Whole Home Energy Consumed', fontsize=20)\n",
    "plt.ylabel('Whole Home Energy (kWh)', fontsize=15)\n",
    "plt.grid(True)\n",
    "plt.tight_layout()\n",
    "plt.savefig('Images/Energy Plots/Cooling_Season_WholeHome_Energy')"
   ]
  },
  {
   "cell_type": "code",
   "execution_count": null,
   "metadata": {},
   "outputs": [],
   "source": []
  }
 ],
 "metadata": {
  "anaconda-cloud": {},
  "kernel_info": {
   "name": "python3"
  },
  "kernelspec": {
   "display_name": "Python 3",
   "language": "python",
   "name": "python3"
  },
  "language_info": {
   "codemirror_mode": {
    "name": "ipython",
    "version": 3
   },
   "file_extension": ".py",
   "mimetype": "text/x-python",
   "name": "python",
   "nbconvert_exporter": "python",
   "pygments_lexer": "ipython3",
   "version": "3.6.9"
  },
  "latex_envs": {
   "LaTeX_envs_menu_present": true,
   "autoclose": false,
   "autocomplete": true,
   "bibliofile": "biblio.bib",
   "cite_by": "apalike",
   "current_citInitial": 1,
   "eqLabelWithNumbers": true,
   "eqNumInitial": 1,
   "hotkeys": {
    "equation": "Ctrl-E",
    "itemize": "Ctrl-I"
   },
   "labels_anchors": false,
   "latex_user_defs": false,
   "report_style_numbering": false,
   "user_envs_cfg": false
  },
  "nteract": {
   "version": "0.2.0"
  }
 },
 "nbformat": 4,
 "nbformat_minor": 2
}
