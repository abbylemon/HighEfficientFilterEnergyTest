{
 "cells": [
  {
   "cell_type": "code",
   "execution_count": null,
   "metadata": {},
   "outputs": [],
   "source": [
    "import pandas as pd\n",
    "import matplotlib.pyplot as plt\n",
    "from datetime import *\n",
    "import numpy as np\n",
    "#import peakutils"
   ]
  },
  {
   "cell_type": "code",
   "execution_count": null,
   "metadata": {
    "scrolled": true
   },
   "outputs": [],
   "source": [
    "#bring in the summary table \n",
    "#format the date time inorder to merge with data files\n",
    "summary_df = pd.read_csv(\"Data/3MTestingLog.csv\")\n",
    "summary_df = summary_df.drop(['Table Name'], axis=1)\n",
    "summary_df[\"Install Date Time\"] = pd.to_datetime(summary_df['Date'] + ' ' + summary_df['Install Time'], format=\"%m/%d/%y %H:%M\")\n",
    "summary_df[\"Removal Date Time\"] = pd.to_datetime(summary_df['Date'] + ' ' + summary_df['Removal Time'], format=\"%m/%d/%y %H:%M\")\n",
    "\n",
    "summary_df"
   ]
  },
  {
   "cell_type": "code",
   "execution_count": null,
   "metadata": {},
   "outputs": [],
   "source": [
    "summary_df.dtypes"
   ]
  },
  {
   "cell_type": "code",
   "execution_count": null,
   "metadata": {},
   "outputs": [],
   "source": [
    "#Bring in the testing data except for the first file\n",
    "datafiles = [\"Data/Data-20191121080221_0.csv\", \"Data/Data-20191121080221_1.csv\", \n",
    "             \"Data/Data-20191122074415.csv\", \"Data/Data-20191125071926_0.csv\", \"Data/Data-20191125071926_1.csv\", \n",
    "             \"Data/Data-20191126061705_0.csv\", \"Data/Data-20191126061705_1.csv\", \"Data/Data-20191127053638.csv\"\n",
    "            ]\n",
    "\n",
    "usecols = ['Date', 'Time', \"Volts\", 'Volts.1', 'Amps', 'Amps.1', 'Watts']"
   ]
  },
  {
   "cell_type": "code",
   "execution_count": null,
   "metadata": {
    "scrolled": true
   },
   "outputs": [],
   "source": [
    "#pullin the first file as a dataframe, pull the desired columns and drop the first row since there are two header rows\n",
    "#Data1_df = pd.read_csv(\"Data/Data-20191120134426.csv\", skiprows=0, usecols=usecols)\n",
    "\n",
    "#Data1_df = pd.read_csv(\"Data/Data-20191120134426.csv\", skiprows=1, usecols=usecols) \n",
    "\n",
    "Data1_df = pd.read_csv(\"Data/Data-20191120134426.csv\", skiprows=1, usecols=usecols) \n",
    "\n",
    "#remove all of the rows with zeros\n",
    "AllData_df = Data1_df.loc[(Data1_df['Watts']!=0)]\n",
    "\n",
    "AllData_df.shape"
   ]
  },
  {
   "cell_type": "code",
   "execution_count": null,
   "metadata": {},
   "outputs": [],
   "source": [
    "AllData_df.dtypes"
   ]
  },
  {
   "cell_type": "code",
   "execution_count": null,
   "metadata": {},
   "outputs": [],
   "source": [
    "#pull in all of the other data files and create one large file while removing all zero values\n",
    "for file in datafiles:\n",
    "    Data2_df = pd.read_csv(file, skiprows=1, usecols=usecols)\n",
    "\n",
    "    #NonZeroData2_df = Data2_df[(Data2_df != 0).all(1)]\n",
    "    #df.loc[~(df==0).all(axis=1)]\n",
    "    NonZeroData2_df = Data2_df.loc[(Data2_df['Watts']!=0)]\n",
    "        \n",
    "    AllData_df = AllData_df.append(NonZeroData2_df, ignore_index=True)\n",
    "    \n",
    "AllData_df['Date and Time'] = pd.to_datetime(AllData_df['Date'] + ' ' + AllData_df['Time'], format=\"%Y/%m/%d %H:%M:%S\")\n",
    "\n",
    "AllData_df.shape"
   ]
  },
  {
   "cell_type": "code",
   "execution_count": null,
   "metadata": {},
   "outputs": [],
   "source": [
    "#AllData_df['Date and Time'] = pd.to_datetime(AllData_df['Date'] + ' ' + AllData_df['Time'], format=\"%Y/%m/%d %H:%M:%S\")\n",
    "#AllData_df['Date and Time'] = pd.to_datetime(AllData_df['Date'] + ' ' + AllData_df['Time'])\n",
    "\n",
    "ZeroData_df = AllData_df.loc[AllData_df['Watts'] == 0]\n",
    "\n",
    "ZeroData_df.shape"
   ]
  },
  {
   "cell_type": "code",
   "execution_count": null,
   "metadata": {},
   "outputs": [],
   "source": [
    "# #create new columns in AllData_df by using conditional (mask) and data from summary_df\n",
    "# #without adding column combining date and time\n",
    "\n",
    "# for i in range(len(summary_df['Filter ID'])):\n",
    "#     mask = (AllData_df['Date'] == summary_df['Date'][i]) & (AllData_df['Time'] >= summary_df['Install Time'][i]) & (AllData_df['Time'] <= summary_df['Removal Time'][i])\n",
    "    \n",
    "#     AllData_df.loc[mask, 'Filter ID'] = summary_df['Filter ID'][i]\n",
    "#     AllData_df.loc[mask, 'Outdoor Temp'] = summary_df['Outdoor Temp'][i]\n",
    "#     if summary_df['Pre 20x20x1'][i] == 'N/A':\n",
    "#         AllData_df.loc[mask, 'Clean/Dirty'] = 'Clean'\n",
    "#     else:\n",
    "#         AllData_df.loc[mask, 'Clean/Dirty'] = 'Dirty'\n",
    "        \n",
    "# FilteredData_df = AllData_df.dropna()\n",
    "# FilteredData_df.shape"
   ]
  },
  {
   "cell_type": "code",
   "execution_count": null,
   "metadata": {},
   "outputs": [],
   "source": [
    "#create new columns in AllData_df by using conditional (mask) and data from summary_df\n",
    "#with using the combined column date and time\n",
    "\n",
    "for i in range(len(summary_df['Filter ID'])-1):\n",
    "    mask = (AllData_df['Date and Time'] >= summary_df['Install Date Time'][i]) & (AllData_df['Date and Time'] <= summary_df['Removal Date Time'][i])\n",
    "\n",
    "    AllData_df.loc[mask, 'Filter ID'] = summary_df['Filter ID'][i]\n",
    "    AllData_df.loc[mask, 'Outdoor Temp'] = summary_df['Outdoor Temp'][i]\n",
    "    if (summary_df['Filter ID'][i]=='MERV 8-4') | (summary_df['Filter ID'][i]=='MERV 8-5') | (summary_df['Filter ID'][i]=='1900-4') | (summary_df['Filter ID'][i]=='1900-5'):\n",
    "        AllData_df.loc[mask, 'Clean/Dirty'] = 'Dirty'\n",
    "    else:\n",
    "        AllData_df.loc[mask, 'Clean/Dirty'] = 'Clean'\n",
    "\n",
    "FilteredData_df = AllData_df.dropna()\n",
    "FilteredData_df"
   ]
  },
  {
   "cell_type": "code",
   "execution_count": null,
   "metadata": {},
   "outputs": [],
   "source": [
    "#confirming that the Watts column is Volts+Volts.1 * Amps+Amps.1\n",
    "\n",
    "CalculatedColumns_df = FilteredData_df.copy()\n",
    "CalculatedColumns_df['Calculated Energy (kJ)'] = ((CalculatedColumns_df['Volts']+CalculatedColumns_df['Volts.1']) * (CalculatedColumns_df['Amps']+CalculatedColumns_df['Amps.1']))/1000\n",
    "#ConfirmWatts_df['Diff in Watts'] = ConfirmWatts_df['Watts'] - ConfirmWatts_df['Watts Confirmed']\n",
    "CalculatedColumns_df"
   ]
  },
  {
   "cell_type": "code",
   "execution_count": null,
   "metadata": {},
   "outputs": [],
   "source": [
    "#playing with groupby()\n",
    "\n",
    "Grouped_df = CalculatedColumns_df.groupby(['Outdoor Temp','Clean/Dirty','Filter ID'])\n",
    "GroupKeys = Grouped_df.groups.keys()\n",
    "Grouped_df.count()"
   ]
  },
  {
   "cell_type": "code",
   "execution_count": null,
   "metadata": {},
   "outputs": [],
   "source": [
    "#Create a column measuring the time that each filter was tested for\n",
    "    \n",
    "timecount = Grouped_df['Time'].count()\n",
    "timecount\n",
    "\n",
    "CalculatedColumns_df.cumsum()\n"
   ]
  },
  {
   "cell_type": "code",
   "execution_count": null,
   "metadata": {},
   "outputs": [],
   "source": [
    "#playing with plotting the data\n",
    "\n",
    "# df.set_index('Date', inplace=True)\n",
    "# df.groupby('ticker')['adj_close'].plot(legend=True)\n",
    "\n",
    "#FilteredData_df.set_index('Date and Time', inplace=True)\n",
    "#CalculatedColumns_df.groupby(['Outdoor Temp', 'Filter ID'])['Calculated Energy (kJ)'].plot(legend=True)\n",
    "\n",
    "#Ploting multipule lines on one graph\n",
    "# fig, ax = plt.subplots(figsize=(15,7))\n",
    "# data.groupby(['date','type']).count()['amount'].unstack().plot(ax=ax)\n",
    "# ax.set_xlabel('Date')\n",
    "# ax.set_ylabel('Number of transactions')\n",
    "\n",
    "fig, ax = plt.subplots(figsize=(15,7))\n",
    "CalculatedColumns_df.groupby(['Date and Time', 'Filter ID']).mean()['Calculated Energy (kJ)'].unstack().plot(ax=ax)\n",
    "\n",
    "\n",
    "\n",
    "#Grouped_df.plot(use_index=True, y='Calculated Energy (kJ)', color='red')\n",
    "#plt.savefig(\"Images/Groupedby_HeatingandCooling_FilterID.png\")\n",
    "#plt.show()"
   ]
  },
  {
   "cell_type": "code",
   "execution_count": null,
   "metadata": {},
   "outputs": [],
   "source": [
    "#find the baseline in the data\n",
    "\n",
    "baseline_values = peakutils.baseline(Grouped_df['Calculated Energy (kJ)'])\n",
    "baseline_values"
   ]
  },
  {
   "cell_type": "code",
   "execution_count": null,
   "metadata": {},
   "outputs": [],
   "source": []
  }
 ],
 "metadata": {
  "anaconda-cloud": {},
  "kernel_info": {
   "name": "python3"
  },
  "kernelspec": {
   "display_name": "Python 3",
   "language": "python",
   "name": "python3"
  },
  "language_info": {
   "codemirror_mode": {
    "name": "ipython",
    "version": 3
   },
   "file_extension": ".py",
   "mimetype": "text/x-python",
   "name": "python",
   "nbconvert_exporter": "python",
   "pygments_lexer": "ipython3",
   "version": "3.6.9"
  },
  "latex_envs": {
   "LaTeX_envs_menu_present": true,
   "autoclose": false,
   "autocomplete": true,
   "bibliofile": "biblio.bib",
   "cite_by": "apalike",
   "current_citInitial": 1,
   "eqLabelWithNumbers": true,
   "eqNumInitial": 1,
   "hotkeys": {
    "equation": "Ctrl-E",
    "itemize": "Ctrl-I"
   },
   "labels_anchors": false,
   "latex_user_defs": false,
   "report_style_numbering": false,
   "user_envs_cfg": false
  },
  "nteract": {
   "version": "0.2.0"
  }
 },
 "nbformat": 4,
 "nbformat_minor": 2
}
